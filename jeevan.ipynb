{
 "cells": [
  {
   "cell_type": "code",
   "execution_count": 1,
   "id": "3098f7ca-1cb1-475a-a3f6-be1957f39610",
   "metadata": {},
   "outputs": [
    {
     "name": "stdout",
     "output_type": "stream",
     "text": [
      "hello worid\n"
     ]
    }
   ],
   "source": [
    "print(\"hello worid\")"
   ]
  },
  {
   "cell_type": "code",
   "execution_count": 2,
   "id": "5fd36a98-1c4f-4c08-89ed-79c948780a05",
   "metadata": {},
   "outputs": [],
   "source": [
    "import numpy as np"
   ]
  },
  {
   "cell_type": "code",
   "execution_count": 5,
   "id": "84cd3146-c20f-42f1-9601-65ccb8296f2e",
   "metadata": {},
   "outputs": [
    {
     "data": {
      "text/plain": [
       "array([87,  8,  3, 54,  4, 70])"
      ]
     },
     "execution_count": 5,
     "metadata": {},
     "output_type": "execute_result"
    }
   ],
   "source": [
    "np.random.randint(0,100,6)"
   ]
  },
  {
   "cell_type": "code",
   "execution_count": 7,
   "id": "92e305c7-677e-4dcb-9dd8-f61c725c545b",
   "metadata": {},
   "outputs": [
    {
     "data": {
      "text/plain": [
       "array([[19, 60, 77],\n",
       "       [70, 57, 34]])"
      ]
     },
     "execution_count": 7,
     "metadata": {},
     "output_type": "execute_result"
    }
   ],
   "source": [
    "np.random.randint(0,100,6).reshape(2,3)"
   ]
  },
  {
   "cell_type": "code",
   "execution_count": 8,
   "id": "1ec2a461-7df1-4388-b1ef-2244e3e43f45",
   "metadata": {},
   "outputs": [],
   "source": [
    "import pandas as pd"
   ]
  },
  {
   "cell_type": "code",
   "execution_count": 11,
   "id": "73cadce8-5259-43ee-a179-deb103224efd",
   "metadata": {},
   "outputs": [
    {
     "data": {
      "text/html": [
       "<div>\n",
       "<style scoped>\n",
       "    .dataframe tbody tr th:only-of-type {\n",
       "        vertical-align: middle;\n",
       "    }\n",
       "\n",
       "    .dataframe tbody tr th {\n",
       "        vertical-align: top;\n",
       "    }\n",
       "\n",
       "    .dataframe thead th {\n",
       "        text-align: right;\n",
       "    }\n",
       "</style>\n",
       "<table border=\"1\" class=\"dataframe\">\n",
       "  <thead>\n",
       "    <tr style=\"text-align: right;\">\n",
       "      <th></th>\n",
       "      <th>Name</th>\n",
       "      <th>USN</th>\n",
       "    </tr>\n",
       "  </thead>\n",
       "  <tbody>\n",
       "    <tr>\n",
       "      <th>1</th>\n",
       "      <td>sachin</td>\n",
       "      <td>jeevan bl</td>\n",
       "    </tr>\n",
       "    <tr>\n",
       "      <th>2</th>\n",
       "      <td>1SV22EC037</td>\n",
       "      <td>1SV22EC015</td>\n",
       "    </tr>\n",
       "  </tbody>\n",
       "</table>\n",
       "</div>"
      ],
      "text/plain": [
       "         Name         USN\n",
       "1      sachin   jeevan bl\n",
       "2  1SV22EC037  1SV22EC015"
      ]
     },
     "execution_count": 11,
     "metadata": {},
     "output_type": "execute_result"
    }
   ],
   "source": [
    "df=pd.DataFrame(([\"sachin\",\"jeevan bl\"],[\"1SV22EC037\",\"1SV22EC015\"]),index=[\"1\",\"2\"],columns=[\"Name\",\"USN\"])\n",
    "df"
   ]
  },
  {
   "cell_type": "code",
   "execution_count": 16,
   "id": "b62ac0ed-de59-4566-9fc5-4458f3cef337",
   "metadata": {},
   "outputs": [
    {
     "data": {
      "text/html": [
       "<div>\n",
       "<style scoped>\n",
       "    .dataframe tbody tr th:only-of-type {\n",
       "        vertical-align: middle;\n",
       "    }\n",
       "\n",
       "    .dataframe tbody tr th {\n",
       "        vertical-align: top;\n",
       "    }\n",
       "\n",
       "    .dataframe thead th {\n",
       "        text-align: right;\n",
       "    }\n",
       "</style>\n",
       "<table border=\"1\" class=\"dataframe\">\n",
       "  <thead>\n",
       "    <tr style=\"text-align: right;\">\n",
       "      <th></th>\n",
       "      <th>Name</th>\n",
       "      <th>USN</th>\n",
       "    </tr>\n",
       "  </thead>\n",
       "  <tbody>\n",
       "    <tr>\n",
       "      <th>1</th>\n",
       "      <td>sachin</td>\n",
       "      <td>jeevan bl</td>\n",
       "    </tr>\n",
       "    <tr>\n",
       "      <th>2</th>\n",
       "      <td>1SV22EC037</td>\n",
       "      <td>1SV22EC015</td>\n",
       "    </tr>\n",
       "    <tr>\n",
       "      <th>3</th>\n",
       "      <td>kushal</td>\n",
       "      <td>1SV22EC018</td>\n",
       "    </tr>\n",
       "  </tbody>\n",
       "</table>\n",
       "</div>"
      ],
      "text/plain": [
       "         Name         USN\n",
       "1      sachin   jeevan bl\n",
       "2  1SV22EC037  1SV22EC015\n",
       "3      kushal  1SV22EC018"
      ]
     },
     "execution_count": 16,
     "metadata": {},
     "output_type": "execute_result"
    }
   ],
   "source": [
    "df=pd.DataFrame(([\"sachin\",\"jeevan bl\"],[\"1SV22EC037\",\"1SV22EC015\"],[\"kushal\",\"1SV22EC018\"]),index=[\"1\",\"2\",\"3\"],columns=[\"Name\",\"USN\"])\n",
    "df"
   ]
  },
  {
   "cell_type": "code",
   "execution_count": 19,
   "id": "22ac891e-b082-4579-a9ab-fcd78bf676a2",
   "metadata": {},
   "outputs": [
    {
     "data": {
      "text/html": [
       "<div>\n",
       "<style scoped>\n",
       "    .dataframe tbody tr th:only-of-type {\n",
       "        vertical-align: middle;\n",
       "    }\n",
       "\n",
       "    .dataframe tbody tr th {\n",
       "        vertical-align: top;\n",
       "    }\n",
       "\n",
       "    .dataframe thead th {\n",
       "        text-align: right;\n",
       "    }\n",
       "</style>\n",
       "<table border=\"1\" class=\"dataframe\">\n",
       "  <thead>\n",
       "    <tr style=\"text-align: right;\">\n",
       "      <th></th>\n",
       "      <th>Name</th>\n",
       "      <th>USN</th>\n",
       "      <th>Year of birth</th>\n",
       "      <th>place</th>\n",
       "    </tr>\n",
       "  </thead>\n",
       "  <tbody>\n",
       "    <tr>\n",
       "      <th>1</th>\n",
       "      <td>JEEVAN</td>\n",
       "      <td>1SV22EC105</td>\n",
       "      <td>2005</td>\n",
       "      <td>hassan</td>\n",
       "    </tr>\n",
       "    <tr>\n",
       "      <th>2</th>\n",
       "      <td>Schin</td>\n",
       "      <td>1SV22EC037</td>\n",
       "      <td>2004</td>\n",
       "      <td>hassan</td>\n",
       "    </tr>\n",
       "    <tr>\n",
       "      <th>3</th>\n",
       "      <td>kushal</td>\n",
       "      <td>1SV22EC018</td>\n",
       "      <td>2004</td>\n",
       "      <td>hassan</td>\n",
       "    </tr>\n",
       "  </tbody>\n",
       "</table>\n",
       "</div>"
      ],
      "text/plain": [
       "     Name         USN Year of birth   place\n",
       "1  JEEVAN  1SV22EC105          2005  hassan\n",
       "2   Schin  1SV22EC037          2004  hassan\n",
       "3  kushal  1SV22EC018          2004  hassan"
      ]
     },
     "execution_count": 19,
     "metadata": {},
     "output_type": "execute_result"
    }
   ],
   "source": [
    "df=pd.DataFrame(([\"JEEVAN\",\"1SV22EC105\",\"2005\",\"hassan\"],[\"Schin\",\"1SV22EC037\",\"2004\",\"hassan\"],[\"kushal\",\"1SV22EC018\",\"2004\",\"hassan\"]),index=[\"1\",\"2\",\"3\"],columns=[\"Name\",\"USN\",\"Year of birth\",\"place\"])\n",
    "df"
   ]
  },
  {
   "cell_type": "code",
   "execution_count": 21,
   "id": "bd258439-9c38-4b6f-b74c-06795dcd6881",
   "metadata": {},
   "outputs": [
    {
     "data": {
      "text/plain": [
       "Name                 JEEVAN\n",
       "USN              1SV22EC105\n",
       "Year of birth          2005\n",
       "place                hassan\n",
       "Name: 1, dtype: object"
      ]
     },
     "execution_count": 21,
     "metadata": {},
     "output_type": "execute_result"
    }
   ],
   "source": [
    "df.loc[\"1\"]"
   ]
  },
  {
   "cell_type": "code",
   "execution_count": 22,
   "id": "93db142d-3649-4aa2-a2f8-cb813ae4c43c",
   "metadata": {},
   "outputs": [
    {
     "data": {
      "text/plain": [
       "pandas.core.series.Series"
      ]
     },
     "execution_count": 22,
     "metadata": {},
     "output_type": "execute_result"
    }
   ],
   "source": [
    "type (df.loc[\"1\"])"
   ]
  },
  {
   "cell_type": "code",
   "execution_count": 23,
   "id": "988bb5c6-52bb-4bc8-b1d2-6fb3d22915fb",
   "metadata": {},
   "outputs": [
    {
     "data": {
      "text/plain": [
       "pandas.core.frame.DataFrame"
      ]
     },
     "execution_count": 23,
     "metadata": {},
     "output_type": "execute_result"
    }
   ],
   "source": [
    "type(df)"
   ]
  },
  {
   "cell_type": "code",
   "execution_count": 26,
   "id": "e6f1eb90-9eba-41ad-b472-d0ac69c3efdd",
   "metadata": {},
   "outputs": [
    {
     "data": {
      "text/plain": [
       "1    hassan\n",
       "2    hassan\n",
       "3    hassan\n",
       "Name: place, dtype: object"
      ]
     },
     "execution_count": 26,
     "metadata": {},
     "output_type": "execute_result"
    }
   ],
   "source": [
    "df.iloc[:,-1]"
   ]
  },
  {
   "cell_type": "code",
   "execution_count": 27,
   "id": "c3e3d9f4-9ec2-4c9b-8913-f113515e0153",
   "metadata": {},
   "outputs": [
    {
     "data": {
      "text/html": [
       "<div>\n",
       "<style scoped>\n",
       "    .dataframe tbody tr th:only-of-type {\n",
       "        vertical-align: middle;\n",
       "    }\n",
       "\n",
       "    .dataframe tbody tr th {\n",
       "        vertical-align: top;\n",
       "    }\n",
       "\n",
       "    .dataframe thead th {\n",
       "        text-align: right;\n",
       "    }\n",
       "</style>\n",
       "<table border=\"1\" class=\"dataframe\">\n",
       "  <thead>\n",
       "    <tr style=\"text-align: right;\">\n",
       "      <th></th>\n",
       "      <th>Name</th>\n",
       "      <th>USN</th>\n",
       "      <th>Year of birth</th>\n",
       "      <th>place</th>\n",
       "    </tr>\n",
       "  </thead>\n",
       "  <tbody>\n",
       "    <tr>\n",
       "      <th>1</th>\n",
       "      <td>JEEVAN</td>\n",
       "      <td>1SV22EC105</td>\n",
       "      <td>2005</td>\n",
       "      <td>hassan</td>\n",
       "    </tr>\n",
       "    <tr>\n",
       "      <th>2</th>\n",
       "      <td>Schin</td>\n",
       "      <td>1SV22EC037</td>\n",
       "      <td>2004</td>\n",
       "      <td>hassan</td>\n",
       "    </tr>\n",
       "  </tbody>\n",
       "</table>\n",
       "</div>"
      ],
      "text/plain": [
       "     Name         USN Year of birth   place\n",
       "1  JEEVAN  1SV22EC105          2005  hassan\n",
       "2   Schin  1SV22EC037          2004  hassan"
      ]
     },
     "execution_count": 27,
     "metadata": {},
     "output_type": "execute_result"
    }
   ],
   "source": [
    "df.iloc[:-1]"
   ]
  },
  {
   "cell_type": "code",
   "execution_count": 28,
   "id": "165ba7c2-6297-44c8-9af1-16818cd0be23",
   "metadata": {},
   "outputs": [
    {
     "data": {
      "text/plain": [
       "1    1SV22EC105\n",
       "2    1SV22EC037\n",
       "3    1SV22EC018\n",
       "Name: USN, dtype: object"
      ]
     },
     "execution_count": 28,
     "metadata": {},
     "output_type": "execute_result"
    }
   ],
   "source": [
    "df.iloc[:,1]"
   ]
  },
  {
   "cell_type": "code",
   "execution_count": 34,
   "id": "f5809f82-a4f3-41bf-a3ac-7154bf03feb1",
   "metadata": {},
   "outputs": [
    {
     "data": {
      "text/plain": [
       "Name\n",
       "JEEVAN    1\n",
       "Schin     1\n",
       "kushal    1\n",
       "Name: count, dtype: int64"
      ]
     },
     "execution_count": 34,
     "metadata": {},
     "output_type": "execute_result"
    }
   ],
   "source": [
    "df['Name'].value_counts()"
   ]
  },
  {
   "cell_type": "code",
   "execution_count": 35,
   "id": "fd270afc-4ea4-4d59-9c52-79aaa0a20a90",
   "metadata": {},
   "outputs": [
    {
     "name": "stdout",
     "output_type": "stream",
     "text": [
      "<class 'pandas.core.frame.DataFrame'>\n",
      "Index: 3 entries, 1 to 3\n",
      "Data columns (total 4 columns):\n",
      " #   Column         Non-Null Count  Dtype \n",
      "---  ------         --------------  ----- \n",
      " 0   Name           3 non-null      object\n",
      " 1   USN            3 non-null      object\n",
      " 2   Year of birth  3 non-null      object\n",
      " 3   place          3 non-null      object\n",
      "dtypes: object(4)\n",
      "memory usage: 228.0+ bytes\n"
     ]
    }
   ],
   "source": [
    "df.info()"
   ]
  },
  {
   "cell_type": "code",
   "execution_count": 36,
   "id": "0eb6bd3d-1f7e-4c1f-b7da-5e9eea230051",
   "metadata": {},
   "outputs": [
    {
     "data": {
      "text/html": [
       "<div>\n",
       "<style scoped>\n",
       "    .dataframe tbody tr th:only-of-type {\n",
       "        vertical-align: middle;\n",
       "    }\n",
       "\n",
       "    .dataframe tbody tr th {\n",
       "        vertical-align: top;\n",
       "    }\n",
       "\n",
       "    .dataframe thead th {\n",
       "        text-align: right;\n",
       "    }\n",
       "</style>\n",
       "<table border=\"1\" class=\"dataframe\">\n",
       "  <thead>\n",
       "    <tr style=\"text-align: right;\">\n",
       "      <th></th>\n",
       "      <th>Name</th>\n",
       "      <th>USN</th>\n",
       "      <th>Year of birth</th>\n",
       "      <th>place</th>\n",
       "    </tr>\n",
       "  </thead>\n",
       "  <tbody>\n",
       "    <tr>\n",
       "      <th>1</th>\n",
       "      <td>JEEVAN</td>\n",
       "      <td>1SV22EC105</td>\n",
       "      <td>2005</td>\n",
       "      <td>hassan</td>\n",
       "    </tr>\n",
       "    <tr>\n",
       "      <th>2</th>\n",
       "      <td>Schin</td>\n",
       "      <td></td>\n",
       "      <td>2004</td>\n",
       "      <td>hassan</td>\n",
       "    </tr>\n",
       "    <tr>\n",
       "      <th>3</th>\n",
       "      <td>kushal</td>\n",
       "      <td>1SV22EC018</td>\n",
       "      <td>2004</td>\n",
       "      <td>hassan</td>\n",
       "    </tr>\n",
       "  </tbody>\n",
       "</table>\n",
       "</div>"
      ],
      "text/plain": [
       "     Name         USN Year of birth   place\n",
       "1  JEEVAN  1SV22EC105          2005  hassan\n",
       "2   Schin                      2004  hassan\n",
       "3  kushal  1SV22EC018          2004  hassan"
      ]
     },
     "execution_count": 36,
     "metadata": {},
     "output_type": "execute_result"
    }
   ],
   "source": [
    "df=pd.DataFrame(([\"JEEVAN\",\"1SV22EC105\",\"2005\",\"hassan\"],[\"Schin\",\"\",\"2004\",\"hassan\"],[\"kushal\",\"1SV22EC018\",\"2004\",\"hassan\"]),index=[\"1\",\"2\",\"3\"],columns=[\"Name\",\"USN\",\"Year of birth\",\"place\"])\n",
    "df"
   ]
  },
  {
   "cell_type": "code",
   "execution_count": 37,
   "id": "5cad327f-5c02-4414-b2a4-948c9d9c5cd9",
   "metadata": {},
   "outputs": [
    {
     "name": "stdout",
     "output_type": "stream",
     "text": [
      "<class 'pandas.core.frame.DataFrame'>\n",
      "Index: 3 entries, 1 to 3\n",
      "Data columns (total 4 columns):\n",
      " #   Column         Non-Null Count  Dtype \n",
      "---  ------         --------------  ----- \n",
      " 0   Name           3 non-null      object\n",
      " 1   USN            3 non-null      object\n",
      " 2   Year of birth  3 non-null      object\n",
      " 3   place          3 non-null      object\n",
      "dtypes: object(4)\n",
      "memory usage: 120.0+ bytes\n"
     ]
    }
   ],
   "source": [
    "df.info()"
   ]
  },
  {
   "cell_type": "code",
   "execution_count": 39,
   "id": "8fcdde17-43b3-4dfc-9e7f-29341feede93",
   "metadata": {},
   "outputs": [
    {
     "data": {
      "text/html": [
       "<div>\n",
       "<style scoped>\n",
       "    .dataframe tbody tr th:only-of-type {\n",
       "        vertical-align: middle;\n",
       "    }\n",
       "\n",
       "    .dataframe tbody tr th {\n",
       "        vertical-align: top;\n",
       "    }\n",
       "\n",
       "    .dataframe thead th {\n",
       "        text-align: right;\n",
       "    }\n",
       "</style>\n",
       "<table border=\"1\" class=\"dataframe\">\n",
       "  <thead>\n",
       "    <tr style=\"text-align: right;\">\n",
       "      <th></th>\n",
       "      <th>Name</th>\n",
       "      <th>USN</th>\n",
       "      <th>Year of birth</th>\n",
       "      <th>place</th>\n",
       "    </tr>\n",
       "  </thead>\n",
       "  <tbody>\n",
       "    <tr>\n",
       "      <th>count</th>\n",
       "      <td>3</td>\n",
       "      <td>3</td>\n",
       "      <td>3</td>\n",
       "      <td>3</td>\n",
       "    </tr>\n",
       "    <tr>\n",
       "      <th>unique</th>\n",
       "      <td>3</td>\n",
       "      <td>3</td>\n",
       "      <td>2</td>\n",
       "      <td>1</td>\n",
       "    </tr>\n",
       "    <tr>\n",
       "      <th>top</th>\n",
       "      <td>JEEVAN</td>\n",
       "      <td>1SV22EC105</td>\n",
       "      <td>2004</td>\n",
       "      <td>hassan</td>\n",
       "    </tr>\n",
       "    <tr>\n",
       "      <th>freq</th>\n",
       "      <td>1</td>\n",
       "      <td>1</td>\n",
       "      <td>2</td>\n",
       "      <td>3</td>\n",
       "    </tr>\n",
       "  </tbody>\n",
       "</table>\n",
       "</div>"
      ],
      "text/plain": [
       "          Name         USN Year of birth   place\n",
       "count        3           3             3       3\n",
       "unique       3           3             2       1\n",
       "top     JEEVAN  1SV22EC105          2004  hassan\n",
       "freq         1           1             2       3"
      ]
     },
     "execution_count": 39,
     "metadata": {},
     "output_type": "execute_result"
    }
   ],
   "source": [
    "df.describe()"
   ]
  },
  {
   "cell_type": "code",
   "execution_count": 42,
   "id": "8c5f4d1b-fc50-425f-ba25-9d2a4e4cc8e6",
   "metadata": {},
   "outputs": [
    {
     "data": {
      "text/html": [
       "<div>\n",
       "<style scoped>\n",
       "    .dataframe tbody tr th:only-of-type {\n",
       "        vertical-align: middle;\n",
       "    }\n",
       "\n",
       "    .dataframe tbody tr th {\n",
       "        vertical-align: top;\n",
       "    }\n",
       "\n",
       "    .dataframe thead th {\n",
       "        text-align: right;\n",
       "    }\n",
       "</style>\n",
       "<table border=\"1\" class=\"dataframe\">\n",
       "  <thead>\n",
       "    <tr style=\"text-align: right;\">\n",
       "      <th></th>\n",
       "      <th>Name</th>\n",
       "      <th>USN</th>\n",
       "      <th>Year of birth</th>\n",
       "      <th>place</th>\n",
       "    </tr>\n",
       "  </thead>\n",
       "  <tbody>\n",
       "    <tr>\n",
       "      <th>1</th>\n",
       "      <td>JEEVAN</td>\n",
       "      <td>1SV22EC105</td>\n",
       "      <td>2005</td>\n",
       "      <td>hassan</td>\n",
       "    </tr>\n",
       "    <tr>\n",
       "      <th>2</th>\n",
       "      <td>Schin</td>\n",
       "      <td></td>\n",
       "      <td>2004</td>\n",
       "      <td>hassan</td>\n",
       "    </tr>\n",
       "    <tr>\n",
       "      <th>3</th>\n",
       "      <td>kushal</td>\n",
       "      <td>1SV22EC018</td>\n",
       "      <td>2004</td>\n",
       "      <td>hassan</td>\n",
       "    </tr>\n",
       "  </tbody>\n",
       "</table>\n",
       "</div>"
      ],
      "text/plain": [
       "     Name         USN Year of birth   place\n",
       "1  JEEVAN  1SV22EC105          2005  hassan\n",
       "2   Schin                      2004  hassan\n",
       "3  kushal  1SV22EC018          2004  hassan"
      ]
     },
     "execution_count": 42,
     "metadata": {},
     "output_type": "execute_result"
    }
   ],
   "source": [
    "df.head(3)"
   ]
  },
  {
   "cell_type": "code",
   "execution_count": 52,
   "id": "ea95c0c0-b042-4b2c-97eb-d225f86bec69",
   "metadata": {},
   "outputs": [
    {
     "data": {
      "text/html": [
       "<div>\n",
       "<style scoped>\n",
       "    .dataframe tbody tr th:only-of-type {\n",
       "        vertical-align: middle;\n",
       "    }\n",
       "\n",
       "    .dataframe tbody tr th {\n",
       "        vertical-align: top;\n",
       "    }\n",
       "\n",
       "    .dataframe thead th {\n",
       "        text-align: right;\n",
       "    }\n",
       "</style>\n",
       "<table border=\"1\" class=\"dataframe\">\n",
       "  <thead>\n",
       "    <tr style=\"text-align: right;\">\n",
       "      <th></th>\n",
       "      <th>Name</th>\n",
       "      <th>USN</th>\n",
       "      <th>Year of birth</th>\n",
       "      <th>place</th>\n",
       "    </tr>\n",
       "  </thead>\n",
       "  <tbody>\n",
       "    <tr>\n",
       "      <th>1</th>\n",
       "      <td>JEEVAN</td>\n",
       "      <td>1SV22EC105</td>\n",
       "      <td>2005</td>\n",
       "      <td>hassan</td>\n",
       "    </tr>\n",
       "    <tr>\n",
       "      <th>2</th>\n",
       "      <td>Schin</td>\n",
       "      <td></td>\n",
       "      <td>2004</td>\n",
       "      <td>hassan</td>\n",
       "    </tr>\n",
       "    <tr>\n",
       "      <th>3</th>\n",
       "      <td>kushal</td>\n",
       "      <td>1SV22EC018</td>\n",
       "      <td>2004</td>\n",
       "      <td>hassan</td>\n",
       "    </tr>\n",
       "  </tbody>\n",
       "</table>\n",
       "</div>"
      ],
      "text/plain": [
       "     Name         USN Year of birth   place\n",
       "1  JEEVAN  1SV22EC105          2005  hassan\n",
       "2   Schin                      2004  hassan\n",
       "3  kushal  1SV22EC018          2004  hassan"
      ]
     },
     "execution_count": 52,
     "metadata": {},
     "output_type": "execute_result"
    }
   ],
   "source": [
    "df1 =df.dropna(axis=0)\n",
    "df1"
   ]
  },
  {
   "cell_type": "code",
   "execution_count": 53,
   "id": "ce8306b5-6e8a-4c29-b51c-d1be4de2ddd6",
   "metadata": {},
   "outputs": [
    {
     "data": {
      "text/html": [
       "<div>\n",
       "<style scoped>\n",
       "    .dataframe tbody tr th:only-of-type {\n",
       "        vertical-align: middle;\n",
       "    }\n",
       "\n",
       "    .dataframe tbody tr th {\n",
       "        vertical-align: top;\n",
       "    }\n",
       "\n",
       "    .dataframe thead th {\n",
       "        text-align: right;\n",
       "    }\n",
       "</style>\n",
       "<table border=\"1\" class=\"dataframe\">\n",
       "  <thead>\n",
       "    <tr style=\"text-align: right;\">\n",
       "      <th></th>\n",
       "      <th>Name</th>\n",
       "      <th>USN</th>\n",
       "      <th>Year of birth</th>\n",
       "      <th>place</th>\n",
       "    </tr>\n",
       "  </thead>\n",
       "  <tbody>\n",
       "    <tr>\n",
       "      <th>1</th>\n",
       "      <td>JEEVAN</td>\n",
       "      <td>1SV22EC105</td>\n",
       "      <td>2005</td>\n",
       "      <td>hassan</td>\n",
       "    </tr>\n",
       "    <tr>\n",
       "      <th>2</th>\n",
       "      <td>Schin</td>\n",
       "      <td></td>\n",
       "      <td>2004</td>\n",
       "      <td>hassan</td>\n",
       "    </tr>\n",
       "    <tr>\n",
       "      <th>3</th>\n",
       "      <td>kushal</td>\n",
       "      <td>1SV22EC018</td>\n",
       "      <td>2004</td>\n",
       "      <td>hassan</td>\n",
       "    </tr>\n",
       "  </tbody>\n",
       "</table>\n",
       "</div>"
      ],
      "text/plain": [
       "     Name         USN Year of birth   place\n",
       "1  JEEVAN  1SV22EC105          2005  hassan\n",
       "2   Schin                      2004  hassan\n",
       "3  kushal  1SV22EC018          2004  hassan"
      ]
     },
     "execution_count": 53,
     "metadata": {},
     "output_type": "execute_result"
    }
   ],
   "source": [
    "df1"
   ]
  },
  {
   "cell_type": "code",
   "execution_count": 54,
   "id": "13a9f56d-b4cd-4f35-aeda-6d6c836bbc36",
   "metadata": {},
   "outputs": [
    {
     "data": {
      "text/html": [
       "<div>\n",
       "<style scoped>\n",
       "    .dataframe tbody tr th:only-of-type {\n",
       "        vertical-align: middle;\n",
       "    }\n",
       "\n",
       "    .dataframe tbody tr th {\n",
       "        vertical-align: top;\n",
       "    }\n",
       "\n",
       "    .dataframe thead th {\n",
       "        text-align: right;\n",
       "    }\n",
       "</style>\n",
       "<table border=\"1\" class=\"dataframe\">\n",
       "  <thead>\n",
       "    <tr style=\"text-align: right;\">\n",
       "      <th></th>\n",
       "      <th>Name</th>\n",
       "      <th>USN</th>\n",
       "      <th>Year of birth</th>\n",
       "      <th>place</th>\n",
       "    </tr>\n",
       "  </thead>\n",
       "  <tbody>\n",
       "    <tr>\n",
       "      <th>1</th>\n",
       "      <td>JEEVAN</td>\n",
       "      <td>1SV22EC105</td>\n",
       "      <td>2005</td>\n",
       "      <td>hassan</td>\n",
       "    </tr>\n",
       "    <tr>\n",
       "      <th>2</th>\n",
       "      <td>Schin</td>\n",
       "      <td></td>\n",
       "      <td>2004</td>\n",
       "      <td>hassan</td>\n",
       "    </tr>\n",
       "    <tr>\n",
       "      <th>3</th>\n",
       "      <td>kushal</td>\n",
       "      <td>1SV22EC018</td>\n",
       "      <td>2004</td>\n",
       "      <td>hassan</td>\n",
       "    </tr>\n",
       "  </tbody>\n",
       "</table>\n",
       "</div>"
      ],
      "text/plain": [
       "     Name         USN Year of birth   place\n",
       "1  JEEVAN  1SV22EC105          2005  hassan\n",
       "2   Schin                      2004  hassan\n",
       "3  kushal  1SV22EC018          2004  hassan"
      ]
     },
     "execution_count": 54,
     "metadata": {},
     "output_type": "execute_result"
    }
   ],
   "source": [
    "df"
   ]
  },
  {
   "cell_type": "code",
   "execution_count": 57,
   "id": "4e5e1f11-67ce-4771-a964-010ffacc3988",
   "metadata": {},
   "outputs": [],
   "source": [
    "df.to_csv(\"/tmp/a.csv\")"
   ]
  },
  {
   "cell_type": "code",
   "execution_count": 58,
   "id": "f87f4fbb-baea-4107-9afa-4cbdb45c18b6",
   "metadata": {},
   "outputs": [
    {
     "name": "stdout",
     "output_type": "stream",
     "text": [
      ",Name,USN,Year of birth,place\n",
      "1,JEEVAN,1SV22EC105,2005,hassan\n",
      "2,Schin,,2004,hassan\n",
      "3,kushal,1SV22EC018,2004,hassan\n"
     ]
    }
   ],
   "source": [
    "cat/tmp/a.csv"
   ]
  },
  {
   "cell_type": "code",
   "execution_count": 60,
   "id": "f6d5afb1-aa4f-49a3-a943-89bd3f8ff2a6",
   "metadata": {},
   "outputs": [
    {
     "data": {
      "text/html": [
       "<div>\n",
       "<style scoped>\n",
       "    .dataframe tbody tr th:only-of-type {\n",
       "        vertical-align: middle;\n",
       "    }\n",
       "\n",
       "    .dataframe tbody tr th {\n",
       "        vertical-align: top;\n",
       "    }\n",
       "\n",
       "    .dataframe thead th {\n",
       "        text-align: right;\n",
       "    }\n",
       "</style>\n",
       "<table border=\"1\" class=\"dataframe\">\n",
       "  <thead>\n",
       "    <tr style=\"text-align: right;\">\n",
       "      <th></th>\n",
       "      <th>Unnamed: 0</th>\n",
       "      <th>Name</th>\n",
       "      <th>USN</th>\n",
       "      <th>Year of birth</th>\n",
       "      <th>place</th>\n",
       "    </tr>\n",
       "  </thead>\n",
       "  <tbody>\n",
       "    <tr>\n",
       "      <th>0</th>\n",
       "      <td>1</td>\n",
       "      <td>JEEVAN</td>\n",
       "      <td>1SV22EC105</td>\n",
       "      <td>2005</td>\n",
       "      <td>hassan</td>\n",
       "    </tr>\n",
       "    <tr>\n",
       "      <th>1</th>\n",
       "      <td>2</td>\n",
       "      <td>Schin</td>\n",
       "      <td>NaN</td>\n",
       "      <td>2004</td>\n",
       "      <td>hassan</td>\n",
       "    </tr>\n",
       "    <tr>\n",
       "      <th>2</th>\n",
       "      <td>3</td>\n",
       "      <td>kushal</td>\n",
       "      <td>1SV22EC018</td>\n",
       "      <td>2004</td>\n",
       "      <td>hassan</td>\n",
       "    </tr>\n",
       "  </tbody>\n",
       "</table>\n",
       "</div>"
      ],
      "text/plain": [
       "   Unnamed: 0    Name         USN  Year of birth   place\n",
       "0           1  JEEVAN  1SV22EC105           2005  hassan\n",
       "1           2   Schin         NaN           2004  hassan\n",
       "2           3  kushal  1SV22EC018           2004  hassan"
      ]
     },
     "execution_count": 60,
     "metadata": {},
     "output_type": "execute_result"
    }
   ],
   "source": [
    "df2 = pd.read_csv(\"/tmp/a.csv\")\n",
    "df2                "
   ]
  },
  {
   "cell_type": "code",
   "execution_count": 69,
   "id": "ff93093f-4c7f-4f01-bb34-021f360f4b92",
   "metadata": {},
   "outputs": [
    {
     "name": "stdout",
     "output_type": "stream",
     "text": [
      "Defaulting to user installation because normal site-packages is not writeable\n",
      "Collecting openpyxl\n",
      "  Downloading openpyxl-3.1.2-py2.py3-none-any.whl (249 kB)\n",
      "\u001b[2K     \u001b[38;2;114;156;31m━━━━━━━━━━━━━━━━━━━━━━━━━━━━━━━━━━━━━━\u001b[0m \u001b[32m250.0/250.0 KB\u001b[0m \u001b[31m49.6 kB/s\u001b[0m eta \u001b[36m0:00:00\u001b[0m31m48.6 kB/s\u001b[0m eta \u001b[36m0:00:01\u001b[0m\n",
      "\u001b[?25hCollecting et-xmlfile\n",
      "  Downloading et_xmlfile-1.1.0-py3-none-any.whl (4.7 kB)\n",
      "Installing collected packages: et-xmlfile, openpyxl\n",
      "Successfully installed et-xmlfile-1.1.0 openpyxl-3.1.2\n",
      "Note: you may need to restart the kernel to use updated packages.\n"
     ]
    }
   ],
   "source": [
    "pip install openpyxl"
   ]
  },
  {
   "cell_type": "code",
   "execution_count": 71,
   "id": "638fd921-541a-436f-9091-973b5fe9311e",
   "metadata": {},
   "outputs": [],
   "source": [
    "df.to_excel(\"/tmp/a.xlsx\")"
   ]
  },
  {
   "cell_type": "code",
   "execution_count": 78,
   "id": "1c5f54a5-1eb2-46bb-a738-a57b8ee5aaea",
   "metadata": {},
   "outputs": [
    {
     "data": {
      "text/plain": [
       "{'goutham', 'jeevan', 'kushal', 'sachin', 'vinod'}"
      ]
     },
     "execution_count": 78,
     "metadata": {},
     "output_type": "execute_result"
    }
   ],
   "source": [
    "df={\"sachin\",\"kushal\",\"goutham\",\"jeevan\",\"vinod\"}\n",
    "df"
   ]
  },
  {
   "cell_type": "code",
   "execution_count": 79,
   "id": "bf9aa93c-e520-4e1f-ac2e-21b7d4e824ad",
   "metadata": {},
   "outputs": [
    {
     "data": {
      "text/plain": [
       "set"
      ]
     },
     "execution_count": 79,
     "metadata": {},
     "output_type": "execute_result"
    }
   ],
   "source": [
    "type(df)"
   ]
  },
  {
   "cell_type": "code",
   "execution_count": 94,
   "id": "354c5f5c-0268-479a-a38d-996761221381",
   "metadata": {},
   "outputs": [],
   "source": [
    "import matplotlib.pyplot as plt\n",
    "import numpy as np\n",
    "%matplotlib inline"
   ]
  },
  {
   "cell_type": "code",
   "execution_count": 90,
   "id": "9b45a2f7-c9d6-4458-8147-48b2d4c08105",
   "metadata": {},
   "outputs": [],
   "source": [
    "x=np.arange(0,10)\n",
    "y=np.arange(11,21)"
   ]
  },
  {
   "cell_type": "code",
   "execution_count": 91,
   "id": "4fd26660-b778-4e9c-85d0-c450cb9b41d9",
   "metadata": {},
   "outputs": [
    {
     "data": {
      "text/plain": [
       "array([0, 1, 2, 3, 4, 5, 6, 7, 8, 9])"
      ]
     },
     "execution_count": 91,
     "metadata": {},
     "output_type": "execute_result"
    }
   ],
   "source": [
    "x"
   ]
  },
  {
   "cell_type": "code",
   "execution_count": 92,
   "id": "5cfae1fa-e9dd-4f05-91a5-0d490b0bc071",
   "metadata": {},
   "outputs": [
    {
     "data": {
      "text/plain": [
       "array([11, 12, 13, 14, 15, 16, 17, 18, 19, 20])"
      ]
     },
     "execution_count": 92,
     "metadata": {},
     "output_type": "execute_result"
    }
   ],
   "source": [
    "y"
   ]
  },
  {
   "cell_type": "code",
   "execution_count": 95,
   "id": "ce9918f6-1a56-482e-b120-b7131a90a574",
   "metadata": {},
   "outputs": [
    {
     "data": {
      "text/plain": [
       "[<matplotlib.lines.Line2D at 0x7f66ec849c60>]"
      ]
     },
     "execution_count": 95,
     "metadata": {},
     "output_type": "execute_result"
    },
    {
     "data": {
      "image/png": "[encoded data removed]",
      "text/plain": [
       "<Figure size 640x480 with 1 Axes>"
      ]
     },
     "metadata": {},
     "output_type": "display_data"
    }
   ],
   "source": [
    "plt.plot(x,y)"
   ]
  },
  {
   "cell_type": "code",
   "execution_count": null,
   "id": "6583bec8-27f8-4058-8bef-001dfef9f939",
   "metadata": {},
   "outputs": [],
   "source": []
  }
 ],
 "metadata": {
  "kernelspec": {
   "display_name": "Python 3 (ipykernel)",
   "language": "python",
   "name": "python3"
  },
  "language_info": {
   "codemirror_mode": {
    "name": "ipython",
    "version": 3
   },
   "file_extension": ".py",
   "mimetype": "text/x-python",
   "name": "python",
   "nbconvert_exporter": "python",
   "pygments_lexer": "ipython3",
   "version": "3.10.12"
  }
 },
 "nbformat": 4,
 "nbformat_minor": 5
}
